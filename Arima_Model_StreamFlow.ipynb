{
 "cells": [
  {
   "cell_type": "code",
   "execution_count": 1,
   "metadata": {},
   "outputs": [
    {
     "name": "stdout",
     "output_type": "stream",
     "text": [
      "0.19.1\n"
     ]
    }
   ],
   "source": [
    "## Qt-1, Qt-2, Pt-1, T(max,t-1),  \n",
    "#Reading /Users/mezzatab/Dropbox/Hydrology/Data/Data/hydrology.nws.noaa.gov/pub/gcip/mopex/US_Data/Us_438_Daily ## \n",
    "# It has Q,P, evaporation, tmax, tmin #\n",
    "import pandas as pd \n",
    "import numpy as np\n",
    "from matplotlib import pyplot as plt\n",
    "import sklearn\n",
    "print sklearn.__version__\n",
    "from sklearn.model_selection import ShuffleSplit, train_test_split\n",
    "from CastFloatCastInt import castFloat, castInt \n",
    "\n",
    "Path=\"/Users/mezzatab/Dropbox/Hydrology/Data/Data/hydrology.nws.noaa.gov/pub/gcip/mopex/US_Data/Us_438_Daily/\"\n",
    "PathQ=\"/Users/mezzatab/Dropbox/Hydrology/Data/Data/hydrology.nws.noaa.gov/pub/gcip/mopex/US_Data/Daily Q 1800/\"\n",
    "ImagePath=\"/Users/mezzatab/Dropbox/Hydrology-ML/Images/\""
   ]
  },
  {
   "cell_type": "code",
   "execution_count": 2,
   "metadata": {
    "collapsed": true
   },
   "outputs": [],
   "source": [
    "## Check specfic area : 03451500.dly # \n",
    "## Reading Data ## \n",
    "pathFile=Path+\"03451500.dly\"\n",
    "pathQFile=PathQ+\"03451500.dq\"\n",
    "startYear=1948 ## \n",
    "\n",
    "f=open(pathFile) \n",
    "data=f.readlines()\n",
    "\n",
    "fQ=open(pathQFile) \n",
    "dataQ=fQ.readlines()"
   ]
  },
  {
   "cell_type": "code",
   "execution_count": 3,
   "metadata": {
    "collapsed": true
   },
   "outputs": [],
   "source": [
    "#dataFrame=pd.DataFrame()#columns=[\"Time\",\"precipitation\",\"evaporation\",\"discharge\",\"Tmax\",\"Tmin\"])\n",
    "rows=0\n",
    "x=0\n",
    "Time=[]\n",
    "Prec=[]\n",
    "Eva=[]\n",
    "Discharge=[]\n",
    "Tmax=[]\n",
    "Tav=[]\n",
    "Tmin=[]\n",
    "for line in data:\n",
    "    List=line.split()\n",
    "    Row=[]\n",
    "    L=len(List)\n",
    "    if L == 8: \n",
    "        time=List[0]+'0'+List[1]+'0'+List[2]\n",
    "        x=3\n",
    "    if L == 7:\n",
    "        time=List[0]+'0'+List[1]#+List[2]\n",
    "#        print time\n",
    "        x=2\n",
    "    if L == 6:\n",
    "        time=List[0]\n",
    "        x=1\n",
    "    year=castInt(time)/10000\n",
    "    if year >= startYear:\n",
    "        Time.append(castInt(time))\n",
    "        Prec.append(castFloat(List[x]))\n",
    "        Eva.append(castFloat(List[x+1]))\n",
    "        Discharge.append(castFloat(List[x+2]))\n",
    "        Tmax.append(castFloat(List[x+3]))\n",
    "        Tmin.append(castFloat(List[x+4]))\n",
    "        Tav.append((castFloat(List[x+3])+castFloat(List[x+4]))/2.0)\n",
    "    rows=rows+1\n",
    "#dataFrame=pd.DataFrame({'Time':Time,'P':Prec, 'Eva':Eva, 'Discharge':Discharge,'T':Tav, 'Tmax':Tmax,'Tmin':Tmin })\n",
    "#dataFrame=pd.DataFrame({'Time':Time,'P':Prec, 'Eva':Eva, 'Q':Discharge,'Tmax':Tmax,'Tmin':Tmin })"
   ]
  },
  {
   "cell_type": "markdown",
   "metadata": {},
   "source": [
    "## Reading Q data from Different file ## \n",
    "File=\"/Users/mezzatab/Dropbox/Hydrology/Data/Data/hydrology.nws.noaa.gov/pub/gcip/mopex/US_Data/Daily Q 1800/\""
   ]
  },
  {
   "cell_type": "code",
   "execution_count": 4,
   "metadata": {
    "collapsed": true
   },
   "outputs": [],
   "source": [
    "## Reading Q data from Different file ## \n",
    "qTime=[]\n",
    "Q=[]\n",
    "for line in dataQ[1:]:\n",
    "#    month=[]\n",
    "    Month=line.split()\n",
    "    year=castInt(Month[0])/100\n",
    "    month=castInt(Month[0])-100*year\n",
    "    if year >= startYear:     \n",
    "        for i,t in enumerate(Month[1:]):\n",
    "            try:\n",
    "                if castFloat(t) > 0:\n",
    "                    Q.append(castFloat(t))\n",
    "                    if i < 9:\n",
    "                        time=Month[0]+'0'+str(i+1)\n",
    "                    else:\n",
    "                        time=Month[0]+str(i+1)\n",
    "                    qTime.append(time)\n",
    "            except ValueError:\n",
    "                pass"
   ]
  },
  {
   "cell_type": "code",
   "execution_count": 5,
   "metadata": {
    "collapsed": true
   },
   "outputs": [],
   "source": [
    "# The last data for Q is 2002-09-30, which is 19997 elements or Q[19996]\n",
    "dataFrame=pd.DataFrame({'Time':Time[:19997],'Q':Q[:19997], 'P':Prec[:19997], 'PET':Eva[:19997],'Discharge':Discharge[:19997],'T':Tav[:19997],'Tmax':Tmax[:19997],'Tmin':Tmin[:19997] })\n",
    "#print len(Q)\n",
    "#print len(Time[:19997])"
   ]
  },
  {
   "cell_type": "markdown",
   "metadata": {},
   "source": [
    "## tranforming dataframe from daily to monthly average ## "
   ]
  },
  {
   "cell_type": "code",
   "execution_count": 6,
   "metadata": {
    "collapsed": true
   },
   "outputs": [],
   "source": [
    "line=dataFrame.loc[0,\"Time\"]\n",
    "monthOld=int(line/100)-100*(int(line/10000))\n",
    "mFrac=(monthOld-1)/12.0\n",
    "year=int(line/10000)+mFrac\n",
    "time=int(line/100)\n",
    "qav=0\n",
    "Tmin_av=0\n",
    "Tmax_av=0\n",
    "Ev_av=0\n",
    "Pav=0\n",
    "T_av=0\n",
    "count=0\n",
    "\n",
    "Time=[]\n",
    "Prec=[]\n",
    "Eva=[]\n",
    "Discharge=[]\n",
    "Tmax=[]\n",
    "Tav=[]\n",
    "Tmin=[]\n",
    "for i in range(len(dataFrame.loc[:,\"Time\"])):\n",
    "    line=dataFrame.loc[i,\"Time\"]\n",
    "    month=int(line/100)-100*(int(line/10000))\n",
    "\n",
    "    if month==monthOld:\n",
    "        count=count+1\n",
    "        qav+=dataFrame.loc[i,\"Q\"]\n",
    "        Pav+=dataFrame.loc[i,\"P\"]\n",
    "        T_av+=dataFrame.loc[i,\"T\"]\n",
    "        Tmin_av+=dataFrame.loc[i,\"Tmin\"]\n",
    "        Tmax_av+=dataFrame.loc[i,\"Tmax\"]\n",
    "        Ev_av+=dataFrame.loc[i,\"PET\"]\n",
    "    else:\n",
    "        qav/=count\n",
    "#        Pav/=count\n",
    "        T_av/=count\n",
    "        Tmin_av/=count\n",
    "        Tmax_av/=count\n",
    "        Ev_av/=count\n",
    "\n",
    "        Time.append(year)\n",
    "        time=int(line/100)    \n",
    "        Prec.append(Pav)     \n",
    "        Tav.append(T_av)\n",
    "        Eva.append(Ev_av)\n",
    "        Tmax.append(Tmax_av)\n",
    "        Tmin.append(Tmin_av)\n",
    "        Discharge.append(qav)\n",
    "        mFrac=(month-1)/12.0\n",
    "        year=int(line/10000)+mFrac\n",
    "\n",
    "        \n",
    "        count=0\n",
    "        monthOld=month\n",
    "        qav=0\n",
    "        Pav=0\n",
    "        T_av=0\n",
    "        Tmin_av=0\n",
    "        Tmax_av=0\n",
    "        Ev_av=0\n",
    "MonthFrame=pd.DataFrame({'Time':Time,'P':Prec, 'PET':Eva, 'Q':Discharge,'T':Tav, 'Tmax':Tmax,'Tmin':Tmin })"
   ]
  },
  {
   "cell_type": "markdown",
   "metadata": {},
   "source": [
    "## Reading the new set of Data ## 2004-2017"
   ]
  },
  {
   "cell_type": "code",
   "execution_count": 7,
   "metadata": {
    "collapsed": true
   },
   "outputs": [],
   "source": [
    "## Reading New Years Data ## \n",
    "Path_NewData=\"/Users/mezzatab/Dropbox/Hydrology/Data/Data/Codes/New_Data/\"\n",
    "P_NY=\"Precipitation_2014-2018\" \n",
    "Q_NY=\"Discharge_2004-2018\"\n",
    "T_NY=\"All_T.csv\""
   ]
  },
  {
   "cell_type": "code",
   "execution_count": 8,
   "metadata": {
    "collapsed": true
   },
   "outputs": [],
   "source": [
    "PathP=Path_NewData+P_NY\n",
    "PathQ=Path_NewData+Q_NY\n",
    "PathT=Path_NewData+T_NY\n",
    "fN_P=open(PathP) \n",
    "dataN_P=fN_P.readlines()\n",
    "\n",
    "fN_Q=open(PathQ) \n",
    "dataN_Q=fN_Q.readlines()\n",
    "\n",
    "fN_T=open(PathT) \n",
    "dataN_T=fN_T.readlines()"
   ]
  },
  {
   "cell_type": "code",
   "execution_count": null,
   "metadata": {
    "collapsed": true
   },
   "outputs": [],
   "source": []
  }
 ],
 "metadata": {
  "kernelspec": {
   "display_name": "Python 2",
   "language": "python",
   "name": "python2"
  },
  "language_info": {
   "codemirror_mode": {
    "name": "ipython",
    "version": 2
   },
   "file_extension": ".py",
   "mimetype": "text/x-python",
   "name": "python",
   "nbconvert_exporter": "python",
   "pygments_lexer": "ipython2",
   "version": "2.7.13"
  }
 },
 "nbformat": 4,
 "nbformat_minor": 2
}

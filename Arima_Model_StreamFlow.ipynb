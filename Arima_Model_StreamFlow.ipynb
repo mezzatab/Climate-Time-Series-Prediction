{
 "cells": [
  {
   "cell_type": "code",
   "execution_count": 24,
   "metadata": {},
   "outputs": [
    {
     "name": "stdout",
     "output_type": "stream",
     "text": [
      "0.19.1\n"
     ]
    }
   ],
   "source": [
    "## Qt-1, Qt-2, Pt-1, T(max,t-1),  \n",
    "#Reading /Users/mezzatab/Dropbox/Hydrology/Data/Data/hydrology.nws.noaa.gov/pub/gcip/mopex/US_Data/Us_438_Daily ## \n",
    "# It has Q,P, evaporation, tmax, tmin #\n",
    "import pandas as pd \n",
    "import numpy as np\n",
    "import warnings\n",
    "import itertools\n",
    "import statsmodels.api as sm\n",
    "plt.style.use('fivethirtyeight')\n",
    "\n",
    "from matplotlib import pyplot as plt\n",
    "import sklearn\n",
    "print sklearn.__version__\n",
    "from sklearn.model_selection import ShuffleSplit, train_test_split\n",
    "from CastFloatCastInt import castFloat, castInt \n",
    "\n",
    "Path=\"/Users/mezzatab/Dropbox/Hydrology/Data/Data/hydrology.nws.noaa.gov/pub/gcip/mopex/US_Data/Us_438_Daily/\"\n",
    "PathQ=\"/Users/mezzatab/Dropbox/Hydrology/Data/Data/hydrology.nws.noaa.gov/pub/gcip/mopex/US_Data/Daily Q 1800/\"\n",
    "ImagePath=\"/Users/mezzatab/Dropbox/Hydrology-ML/Images/\"\n",
    "\n",
    "#Link=https://www.digitalocean.com/community/tutorials/a-guide-to-time-series-forecasting-with-arima-in-python-3#\n",
    "#https://github.com/seanabu/seanabu.github.io/blob/master/Seasonal_ARIMA_model_Portland_transit.ipynb#"
   ]
  },
  {
   "cell_type": "code",
   "execution_count": 2,
   "metadata": {
    "collapsed": true
   },
   "outputs": [],
   "source": [
    "## Check specfic area : 03451500.dly # \n",
    "## Reading Data ## \n",
    "pathFile=Path+\"03451500.dly\"\n",
    "pathQFile=PathQ+\"03451500.dq\"\n",
    "startYear=1948 ## \n",
    "\n",
    "f=open(pathFile) \n",
    "data=f.readlines()\n",
    "\n",
    "fQ=open(pathQFile) \n",
    "dataQ=fQ.readlines()"
   ]
  },
  {
   "cell_type": "code",
   "execution_count": 3,
   "metadata": {
    "collapsed": true
   },
   "outputs": [],
   "source": [
    "#dataFrame=pd.DataFrame()#columns=[\"Time\",\"precipitation\",\"evaporation\",\"discharge\",\"Tmax\",\"Tmin\"])\n",
    "rows=0\n",
    "x=0\n",
    "Time=[]\n",
    "Prec=[]\n",
    "Eva=[]\n",
    "Discharge=[]\n",
    "Tmax=[]\n",
    "Tav=[]\n",
    "Tmin=[]\n",
    "for line in data:\n",
    "    List=line.split()\n",
    "    Row=[]\n",
    "    L=len(List)\n",
    "    if L == 8: \n",
    "        time=List[0]+'0'+List[1]+'0'+List[2]\n",
    "        x=3\n",
    "    if L == 7:\n",
    "        time=List[0]+'0'+List[1]#+List[2]\n",
    "#        print time\n",
    "        x=2\n",
    "    if L == 6:\n",
    "        time=List[0]\n",
    "        x=1\n",
    "    year=castInt(time)/10000\n",
    "    if year >= startYear:\n",
    "        Time.append(castInt(time))\n",
    "        Prec.append(castFloat(List[x]))\n",
    "        Eva.append(castFloat(List[x+1]))\n",
    "        Discharge.append(castFloat(List[x+2]))\n",
    "        Tmax.append(castFloat(List[x+3]))\n",
    "        Tmin.append(castFloat(List[x+4]))\n",
    "        Tav.append((castFloat(List[x+3])+castFloat(List[x+4]))/2.0)\n",
    "    rows=rows+1\n",
    "#dataFrame=pd.DataFrame({'Time':Time,'P':Prec, 'Eva':Eva, 'Discharge':Discharge,'T':Tav, 'Tmax':Tmax,'Tmin':Tmin })\n",
    "#dataFrame=pd.DataFrame({'Time':Time,'P':Prec, 'Eva':Eva, 'Q':Discharge,'Tmax':Tmax,'Tmin':Tmin })"
   ]
  },
  {
   "cell_type": "markdown",
   "metadata": {},
   "source": [
    "## Reading Q data from Different file ## \n",
    "File=\"/Users/mezzatab/Dropbox/Hydrology/Data/Data/hydrology.nws.noaa.gov/pub/gcip/mopex/US_Data/Daily Q 1800/\""
   ]
  },
  {
   "cell_type": "code",
   "execution_count": 4,
   "metadata": {
    "collapsed": true
   },
   "outputs": [],
   "source": [
    "## Reading Q data from Different file ## \n",
    "qTime=[]\n",
    "Q=[]\n",
    "for line in dataQ[1:]:\n",
    "#    month=[]\n",
    "    Month=line.split()\n",
    "    year=castInt(Month[0])/100\n",
    "    month=castInt(Month[0])-100*year\n",
    "    if year >= startYear:     \n",
    "        for i,t in enumerate(Month[1:]):\n",
    "            try:\n",
    "                if castFloat(t) > 0:\n",
    "                    Q.append(castFloat(t))\n",
    "                    if i < 9:\n",
    "                        time=Month[0]+'0'+str(i+1)\n",
    "                    else:\n",
    "                        time=Month[0]+str(i+1)\n",
    "                    qTime.append(time)\n",
    "            except ValueError:\n",
    "                pass"
   ]
  },
  {
   "cell_type": "code",
   "execution_count": 5,
   "metadata": {
    "collapsed": true
   },
   "outputs": [],
   "source": [
    "# The last data for Q is 2002-09-30, which is 19997 elements or Q[19996]\n",
    "dataFrame=pd.DataFrame({'Time':Time[:19997],'Q':Q[:19997], 'P':Prec[:19997], 'PET':Eva[:19997],'Discharge':Discharge[:19997],'T':Tav[:19997],'Tmax':Tmax[:19997],'Tmin':Tmin[:19997] })\n",
    "#print len(Q)\n",
    "#print len(Time[:19997])"
   ]
  },
  {
   "cell_type": "markdown",
   "metadata": {},
   "source": [
    "## tranforming dataframe from daily to monthly average ## "
   ]
  },
  {
   "cell_type": "code",
   "execution_count": 6,
   "metadata": {
    "collapsed": true
   },
   "outputs": [],
   "source": [
    "line=dataFrame.loc[0,\"Time\"]\n",
    "monthOld=int(line/100)-100*(int(line/10000))\n",
    "mFrac=(monthOld-1)/12.0\n",
    "year=int(line/10000)+mFrac\n",
    "time=int(line/100)\n",
    "qav=0\n",
    "Tmin_av=0\n",
    "Tmax_av=0\n",
    "Ev_av=0\n",
    "Pav=0\n",
    "T_av=0\n",
    "count=0\n",
    "\n",
    "Time=[]\n",
    "Prec=[]\n",
    "Eva=[]\n",
    "Discharge=[]\n",
    "Tmax=[]\n",
    "Tav=[]\n",
    "Tmin=[]\n",
    "for i in range(len(dataFrame.loc[:,\"Time\"])):\n",
    "    line=dataFrame.loc[i,\"Time\"]\n",
    "    month=int(line/100)-100*(int(line/10000))\n",
    "\n",
    "    if month==monthOld:\n",
    "        count=count+1\n",
    "        qav+=dataFrame.loc[i,\"Q\"]\n",
    "        Pav+=dataFrame.loc[i,\"P\"]\n",
    "        T_av+=dataFrame.loc[i,\"T\"]\n",
    "        Tmin_av+=dataFrame.loc[i,\"Tmin\"]\n",
    "        Tmax_av+=dataFrame.loc[i,\"Tmax\"]\n",
    "        Ev_av+=dataFrame.loc[i,\"PET\"]\n",
    "    else:\n",
    "        qav/=count\n",
    "#        Pav/=count\n",
    "        T_av/=count\n",
    "        Tmin_av/=count\n",
    "        Tmax_av/=count\n",
    "        Ev_av/=count\n",
    "\n",
    "        Time.append(year)\n",
    "        time=int(line/100)    \n",
    "        Prec.append(Pav)     \n",
    "        Tav.append(T_av)\n",
    "        Eva.append(Ev_av)\n",
    "        Tmax.append(Tmax_av)\n",
    "        Tmin.append(Tmin_av)\n",
    "        Discharge.append(qav)\n",
    "        mFrac=(month-1)/12.0\n",
    "        year=int(line/10000)+mFrac\n",
    "\n",
    "        \n",
    "        count=0\n",
    "        monthOld=month\n",
    "        qav=0\n",
    "        Pav=0\n",
    "        T_av=0\n",
    "        Tmin_av=0\n",
    "        Tmax_av=0\n",
    "        Ev_av=0\n",
    "MonthFrame=pd.DataFrame({'Time':Time,'P':Prec, 'PET':Eva, 'Q':Discharge,'T':Tav, 'Tmax':Tmax,'Tmin':Tmin })"
   ]
  },
  {
   "cell_type": "markdown",
   "metadata": {},
   "source": [
    "## Reading the new set of Data ## 2004-2017"
   ]
  },
  {
   "cell_type": "code",
   "execution_count": 7,
   "metadata": {
    "collapsed": true
   },
   "outputs": [],
   "source": [
    "## Reading New Years Data ## \n",
    "Path_NewData=\"/Users/mezzatab/Dropbox/Hydrology/Data/Data/Codes/New_Data/\"\n",
    "P_NY=\"Precipitation_2014-2018\" \n",
    "Q_NY=\"Discharge_2004-2018\"\n",
    "T_NY=\"All_T.csv\""
   ]
  },
  {
   "cell_type": "code",
   "execution_count": 8,
   "metadata": {
    "collapsed": true
   },
   "outputs": [],
   "source": [
    "PathP=Path_NewData+P_NY\n",
    "PathQ=Path_NewData+Q_NY\n",
    "PathT=Path_NewData+T_NY\n",
    "fN_P=open(PathP) \n",
    "dataN_P=fN_P.readlines()\n",
    "\n",
    "fN_Q=open(PathQ) \n",
    "dataN_Q=fN_Q.readlines()\n",
    "\n",
    "fN_T=open(PathT) \n",
    "dataN_T=fN_T.readlines()"
   ]
  },
  {
   "cell_type": "code",
   "execution_count": 9,
   "metadata": {
    "collapsed": true
   },
   "outputs": [],
   "source": [
    "# Q, starting line is 33\n",
    "# P, starting line is 32 \n",
    "#print dataN_Q[33:38]\n",
    "#print dataN_P[32:38]\n",
    "TimeT_N=[]\n",
    "Tmax_N=[]\n",
    "Tav_N=[]\n",
    "Tmin_N=[]\n",
    "for i,line in enumerate(dataN_T[28:]):\n",
    "    List=line.split(\",\")\n",
    "    length=len(List)\n",
    "    tav=(castFloat(List[length-3])-32)*(5.0/9.0)\n",
    "    tmax=(castFloat(List[length-2])-32)*(5.0/9.0)\n",
    "    tmin=(castFloat(List[length-1])-32)*(5.0/9.0)\n",
    "    Tav_N.append(tav)\n",
    "    Tmax_N.append(tmax)\n",
    "    Tmin_N.append(tmin)\n",
    "#    TimeT_N.append(List[6])\n",
    "#    print List[5] \n",
    "    date=List[6].split('-')\n",
    "    TimeT_N.append(castInt(date[0])+(castInt(date[1])-1)/12.0)"
   ]
  },
  {
   "cell_type": "code",
   "execution_count": 10,
   "metadata": {
    "collapsed": true
   },
   "outputs": [],
   "source": [
    "#dataFrame=pd.DataFrame()#columns=[\"Time\",\"precipitation\",\"evaporation\",\"discharge\",\"Tmax\",\"Tmin\"])\n",
    "## Reading new Discharge from 2004 -> Upfront \n",
    "unitChange=0.0283168466 \n",
    "rows=0\n",
    "x=0\n",
    "TimeQ=[]\n",
    "YearQ=[]\n",
    "MonthQ=[]\n",
    "DayQ=[]\n",
    "#Prec=[]\n",
    "##Eva=[]\n",
    "DischargeQ=[]\n",
    "##Tmax=[]\n",
    "##Tav=[]\n",
    "##Tmin=[]\n",
    "for i,line in enumerate(dataN_Q[33:]):\n",
    "    List=line.split()\n",
    "    length=len(List)\n",
    "    DischargeQ.append(unitChange*castFloat(List[length-2]))\n",
    "    date=List[2].split('-')\n",
    "    YearQ.append(castInt(date[0]))\n",
    "    MonthQ.append(castInt(date[1]))\n",
    "    DayQ.append(castInt(date[2]))\n",
    "    time=10000*castInt(date[0])+100*castInt(date[1])+castInt(date[2])\n",
    "    TimeQ.append(time)\n",
    "#dataFrameN_Q=pd.DataFrame({'Year':Year,'Month':Month, 'Day':Day, 'Discharge':Discharge,'T':Tav, 'Tmax':Tmax,'Tmin':Tmin })#columns=[\"Time\",\"precipitation\",\"evaporation\",\"discharge\",\"Tmax\",\"Tmin\"])"
   ]
  },
  {
   "cell_type": "code",
   "execution_count": 11,
   "metadata": {
    "collapsed": true
   },
   "outputs": [],
   "source": [
    "## Reading new Precipation from 2004-> # CLeaning the missing data with their yearly average #\n",
    "unitChange=25.4\n",
    "YearP=[]\n",
    "MonthP=[]\n",
    "DayP=[]\n",
    "PrecP=[]\n",
    "TimeP=[]\n",
    "for i,line in enumerate(dataN_P[32:]):\n",
    "    List=line.split()\n",
    "    length=len(List)\n",
    "    date=List[2].split('-')\n",
    "    YearP.append(castInt(date[0]))\n",
    "    MonthP.append(castInt(date[1]))\n",
    "    DayP.append(castInt(date[2]))\n",
    "    time=10000*castInt(date[0])+100*castInt(date[1])+castInt(date[2])\n",
    "    TimeP.append(time)    \n",
    "    if length!=3:\n",
    "        PrecP.append(unitChange*castFloat(List[length-2]))\n",
    "    else:\n",
    "        PrecP.append(-0.1)"
   ]
  },
  {
   "cell_type": "code",
   "execution_count": 12,
   "metadata": {
    "collapsed": true
   },
   "outputs": [],
   "source": [
    "yearLength=[366,365,365,365,366,365,365,365,366,365,365,365,366,365]\n",
    "yearAc=[]\n",
    "Sum=0\n",
    "for i in range(len(yearLength)):\n",
    "    Sum=Sum+yearLength[i]\n",
    "    yearAc.append(Sum)\n",
    "missing=[]\n",
    "avPrec=[]\n",
    "startYear=2004\n",
    "for i in range(366):\n",
    "    year=0\n",
    "    count=0\n",
    "    avprec=0\n",
    "    j=i\n",
    "    if PrecP[i] < 0:\n",
    "        avprec=0\n",
    "    else:\n",
    "        avprec=avprec+PrecP[i]\n",
    "    while year < len(yearLength)-1:\n",
    "        j=j+yearLength[year]\n",
    "        year=year+1\n",
    "        if PrecP[j] > -0.1:\n",
    "            avprec=avprec+PrecP[j]\n",
    "            count=count+1\n",
    "    avprec=avprec/(count+1)\n",
    "    avPrec.append(avprec)\n",
    "#plt.clf()\n",
    "#plt.plot(avPrec)\n",
    "#plt.show()\n",
    "## Update the Prec to replace absent data with average ## \n",
    "for i,prec in enumerate(PrecP):\n",
    "    if PrecP[i]==-0.1:\n",
    "        year=YearP[i]-2004\n",
    "#        print year\n",
    "        if year==0:\n",
    "            PrecP[i]=avPrec[i]\n",
    "        else:\n",
    "#            print i-yearAc[year-1]\n",
    "            PrecP[i]=avPrec[i-yearAc[year-1]]"
   ]
  },
  {
   "cell_type": "code",
   "execution_count": 13,
   "metadata": {
    "collapsed": true
   },
   "outputs": [],
   "source": [
    "line=TimeQ[0]\n",
    "monthOld=int(line/100)-100*(int(line/10000))\n",
    "mFrac=(monthOld-1)/12.0\n",
    "year=int(line/10000)+mFrac\n",
    "time=int(line/100)\n",
    "qav=0\n",
    "Pav=0\n",
    "count=0\n",
    "\n",
    "M_Time=[]\n",
    "M_Prec=[]\n",
    "M_Dis=[]\n",
    "M_Eva=[]\n",
    "\n",
    "for i in range(len(TimeQ)): ## To make things in the same size ## \n",
    "    line=TimeQ[i]\n",
    "    month=int(line/100)-100*(int(line/10000))\n",
    "#    if int(line/100) >= 201800:\n",
    "#        break \n",
    "    if month==monthOld:\n",
    "        count=count+1\n",
    "        qav+=DischargeQ[i]\n",
    "        Pav+=PrecP[i]\n",
    "#        T_av+=dataFrame.loc[i,\"T\"]\n",
    "#        Tmin_av+=dataFrame.loc[i,\"Tmin\"]\n",
    "#        Tmax_av+=dataFrame.loc[i,\"Tmax\"]\n",
    "#        Ev_av+=dataFrame.loc[i,\"PET\"]\n",
    "    else:\n",
    "        qav/=count\n",
    "#        Pav/=count\n",
    "        M_Time.append(year)\n",
    "        time=int(line/100)    \n",
    "        M_Prec.append(Pav)     \n",
    "        M_Eva.append(0)\n",
    "        M_Dis.append(qav)\n",
    "        mFrac=(month-1)/12.0\n",
    "        year=int(line/10000)+mFrac\n",
    "\n",
    "        \n",
    "        count=0\n",
    "        monthOld=month\n",
    "        qav=0\n",
    "        Pav=0\n",
    "#New_MonthFrame=pd.DataFrame({'Time':Time,'P':Prec, 'PET':Eva, 'Q':Discharge,'T':Tav, 'Tmax':Tmax,'Tmin':Tmin })"
   ]
  },
  {
   "cell_type": "code",
   "execution_count": 14,
   "metadata": {},
   "outputs": [
    {
     "name": "stdout",
     "output_type": "stream",
     "text": [
      "656\n",
      "168\n",
      "480\n",
      "824\n"
     ]
    }
   ],
   "source": [
    "Min= min(len(TimeT_N),len(M_Time))\n",
    "#print Min\n",
    "bNewData=len(Time) # Beginning of new data # \n",
    "lNewData=Min\n",
    "testStart=480 # Beginning of 1988 # \n",
    "print bNewData\n",
    "print lNewData\n",
    "print testStart\n",
    "print Min+bNewData\n",
    "MonthFrame_WithNew=pd.DataFrame({'Time':Time[:bNewData-8]+TimeT_N[:Min],'P':Prec[:bNewData-8]+M_Prec[:Min], 'PET':Eva[:bNewData-8]+M_Eva[:Min], 'Q':Discharge[:bNewData-8]+M_Dis[:Min],'T':Tav[:bNewData-8]+Tav_N[:Min], 'Tmax':Tmax[:bNewData-8]+Tmax_N[:Min],'Tmin':Tmin[:bNewData-8]+Tmin_N[:Min] })"
   ]
  },
  {
   "cell_type": "code",
   "execution_count": 15,
   "metadata": {
    "collapsed": true
   },
   "outputs": [],
   "source": [
    "avP=[]\n",
    "avT=[]\n",
    "avQ=[]\n",
    "avPET=[]\n",
    "avTmin=[]\n",
    "avTmax=[]\n",
    "sumPET=[0]*12\n",
    "sumP=[0]*12\n",
    "sumT=[0]*12\n",
    "sumQ=[0]*12\n",
    "sumTmax=[0]*12\n",
    "sumTmin=[0]*12\n",
    "\n",
    "count=0\n",
    "year=1\n",
    "for i in range(len(MonthFrame_WithNew)):\n",
    "#    count=count+1\n",
    "    sumPET[count]=sumPET[count]+MonthFrame_WithNew.loc[i,\"PET\"]    \n",
    "    sumP[count]=sumP[count]+MonthFrame_WithNew.loc[i,\"P\"]\n",
    "    sumT[count]=sumT[count]+MonthFrame_WithNew.loc[i,\"T\"]\n",
    "    sumQ[count]=sumQ[count]+MonthFrame_WithNew.loc[i,\"Q\"]\n",
    "    sumTmin[count]=sumTmin[count]+MonthFrame_WithNew.loc[i,\"Tmin\"]    \n",
    "    sumTmax[count]=sumTmax[count]+MonthFrame_WithNew.loc[i,\"Tmax\"]\n",
    "    avP.append(sumP[count]/year)\n",
    "    avT.append(sumT[count]/year)\n",
    "    avQ.append(sumQ[count]/year)\n",
    "    avPET.append(sumPET[count]/year)\n",
    "    avTmin.append(sumTmin[count]/year)\n",
    "    avTmax.append(sumTmax[count]/year)\n",
    "    count=count+1\n",
    "    if count==12:\n",
    "        year=year+1\n",
    "        count=0\n",
    "MonthFrame_WithNew.loc[:,\"avTmax\"]=avTmax\n",
    "MonthFrame_WithNew.loc[:,\"avTmin\"]=avTmin\n",
    "MonthFrame_WithNew.loc[:,\"avT\"]=avT\n",
    "MonthFrame_WithNew.loc[:,\"avP\"]=avP\n",
    "MonthFrame_WithNew.loc[:,\"avQ\"]=avQ\n",
    "MonthFrame_WithNew.loc[:,\"avPET\"]=avPET"
   ]
  },
  {
   "cell_type": "code",
   "execution_count": 16,
   "metadata": {},
   "outputs": [
    {
     "name": "stdout",
     "output_type": "stream",
     "text": [
      "13.537090990264756\n",
      "13.743412265566604\n",
      "13.632018910689927\n",
      "13.553471641377387\n",
      "13.532436033750514\n",
      "13.537106591379297\n",
      "13.524493653311426\n",
      "13.50051510497285\n",
      "13.485935410883547\n",
      "13.484130831587441\n",
      "13.406091694637526\n",
      "13.404911510713392\n",
      "13.350191725543361\n",
      "13.308263299365008\n",
      "13.287436149685476\n",
      "13.248643071730463\n",
      "13.229335936514369\n",
      "13.232884719657973\n",
      "13.193688465815876\n",
      "13.16655561141078\n",
      "13.1384753321624\n",
      "13.110840607927727\n",
      "13.12464258054286\n",
      "13.13361812828578\n",
      "13.128429343014774\n",
      "13.139061894910972\n",
      "13.14779479348647\n",
      "13.159227992569676\n",
      "13.139215356289172\n",
      "13.148120414832905\n",
      "13.14100531984475\n",
      "13.128405246707706\n",
      "13.128754801977395\n",
      "13.117775166230082\n",
      "13.124079432538245\n",
      "13.109226670700673\n",
      "13.108779155447195\n",
      "13.116152437079963\n",
      "13.132055652294829\n",
      "13.130369891495123\n",
      "13.115565589044929\n",
      "13.108574042427662\n",
      "13.124838535946308\n",
      "13.133826289853305\n",
      "13.119941674146782\n",
      "13.114328597524716\n",
      "13.110789390613803\n",
      "13.10517785395767\n",
      "13.094088611202396\n",
      "13.077115070991967\n",
      "13.088922820864589\n",
      "13.094048052776197\n",
      "13.089861043438567\n",
      "13.090458130291628\n",
      "13.088308386508544\n",
      "13.084003276432002\n",
      "13.07806234825548\n",
      "13.080148757321318\n",
      "13.073768332683732\n",
      "13.065903058003201\n",
      "13.056322376420878\n",
      "13.061014309417674\n",
      "13.071436186928388\n",
      "13.064026593729851\n",
      "13.053354959524322\n",
      "13.063278874279007\n",
      "13.074703125464447\n"
     ]
    }
   ],
   "source": [
    "## Holdridge life zones: https://en.wikipedia.org/wiki/Holdridge_life_zones ##\n",
    "# Calculate Biotemperature: Sum (0<T<30)/12\n",
    "BioT=[]\n",
    "YEAR=[]\n",
    "PANN=[]\n",
    "PATR=[]\n",
    "yearOld=int(MonthFrame_WithNew.loc[0,\"Time\"])\n",
    "YEAR.append(yearOld)\n",
    "#print year\n",
    "bioT=0\n",
    "pann=0\n",
    "for i in range(len(MonthFrame_WithNew[\"Time\"])):\n",
    "    time=MonthFrame_WithNew.loc[i,\"Time\"]\n",
    "    year=int(time)\n",
    "    if year == yearOld:\n",
    "        pann=pann+MonthFrame_WithNew.loc[i,\"avP\"]\n",
    "        if MonthFrame_WithNew.loc[i,\"avT\"] < 30 and 0 < MonthFrame_WithNew.loc[i,\"avT\"]:\n",
    "            bioT=bioT+MonthFrame_WithNew.loc[i,\"avT\"]\n",
    "    else:\n",
    "        YEAR.append(year)        \n",
    "        bioT=bioT/12.0\n",
    "        print bioT\n",
    "        BioT.append(bioT)\n",
    "        patr=bioT*58.93/pann\n",
    "        PATR.append(patr)\n",
    "        PANN.append(pann)\n",
    "        if MonthFrame_WithNew.loc[i,\"avT\"] < 30 and 0 < MonthFrame_WithNew.loc[i,\"avT\"]:\n",
    "            bioT=MonthFrame_WithNew.loc[i,\"avT\"]\n",
    "        else:\n",
    "            bioT=0\n",
    "        pann=MonthFrame_WithNew.loc[i,\"avP\"]\n",
    "        yearOld=year\n",
    "\n",
    "bioT=bioT/12.0        \n",
    "BioT.append(bioT)\n",
    "patr=bioT*58.93/pann\n",
    "PATR.append(patr)\n",
    "PANN.append(pann)\n",
    "YearFrame_WithNew=pd.DataFrame({'Time':YEAR,'BioT':BioT, 'PATR':PATR, 'PANN':PANN})"
   ]
  },
  {
   "cell_type": "code",
   "execution_count": 17,
   "metadata": {},
   "outputs": [
    {
     "data": {
      "image/png": "[encoded data removed]",
      "text/plain": [
       "<Figure size 432x288 with 1 Axes>"
      ]
     },
     "metadata": {},
     "output_type": "display_data"
    },
    {
     "data": {
      "image/png": "[encoded data removed]",
      "text/plain": [
       "<Figure size 432x288 with 1 Axes>"
      ]
     },
     "metadata": {},
     "output_type": "display_data"
    },
    {
     "data": {
      "image/png": "[encoded data removed]",
      "text/plain": [
       "<Figure size 432x288 with 1 Axes>"
      ]
     },
     "metadata": {},
     "output_type": "display_data"
    },
    {
     "name": "stdout",
     "output_type": "stream",
     "text": [
      "PATR    0.537109\n",
      "dtype: float64\n",
      "BioT    13.197535\n",
      "dtype: float64\n",
      "PANN    1450.011174\n",
      "dtype: float64\n"
     ]
    }
   ],
   "source": [
    "## Warm Temperature Moist Forest \n",
    "plt.clf()\n",
    "plt.plot(YearFrame_WithNew[[\"Time\"]],YearFrame_WithNew[[\"BioT\"]])#,\".\") # 13.3 , 1450 ml, 0.52\n",
    "#plt.ylim(0,10)\n",
    "plt.show()\n",
    "plt.clf()\n",
    "plt.plot(YearFrame_WithNew[[\"Time\"]],YearFrame_WithNew[[\"PANN\"]])#,\".\")\n",
    "#plt.ylim(0,10)\n",
    "plt.show()\n",
    "plt.clf()\n",
    "plt.plot(YearFrame_WithNew[[\"Time\"]],YearFrame_WithNew[[\"PATR\"]])#,\".\")\n",
    "#plt.ylim(0,10)\n",
    "plt.show()\n",
    "\n",
    "print (YearFrame_WithNew[[\"PATR\"]].mean())\n",
    "print (YearFrame_WithNew[[\"BioT\"]].mean())\n",
    "print (YearFrame_WithNew[[\"PANN\"]].mean())"
   ]
  },
  {
   "cell_type": "code",
   "execution_count": 19,
   "metadata": {},
   "outputs": [
    {
     "name": "stdout",
     "output_type": "stream",
     "text": [
      "            $Q$       $P$     $PET$       $T$\n",
      "$Q$    1.000000  0.634781 -0.146090 -0.300807\n",
      "$P$    0.634781  1.000000  0.073293  0.044713\n",
      "$PET$ -0.146090  0.073293  1.000000  0.906101\n",
      "$T$   -0.300807  0.044713  0.906101  1.000000\n"
     ]
    },
    {
     "data": {
      "text/plain": [
       "<Figure size 576x396 with 0 Axes>"
      ]
     },
     "metadata": {},
     "output_type": "display_data"
    },
    {
     "data": {
      "image/png": "[encoded data removed]",
      "text/plain": [
       "<Figure size 576x576 with 2 Axes>"
      ]
     },
     "metadata": {},
     "output_type": "display_data"
    }
   ],
   "source": [
    "frame=MonthFrame.copy()\n",
    "frame[[\"$Q$\"]]=MonthFrame[[\"Q\"]]\n",
    "frame[[\"$P$\"]]=MonthFrame[[\"P\"]]\n",
    "frame[[\"$T$\"]]=MonthFrame[[\"T\"]]\n",
    "frame[[\"$PET$\"]]=MonthFrame[[\"PET\"]]\n",
    "Corr=frame[[\"$Q$\",\"$P$\",\"$PET$\",\"$T$\"]].corr()\n",
    "print Corr\n",
    "import seaborn as sns\n",
    "plt.clf()\n",
    "fig, ax = plt.subplots(figsize=(8,8))\n",
    "#plt.title(\"Correlation betweet features on the montly scale\")\n",
    "sns.heatmap(Corr,annot=True, vmin=-1.0, vmax=1.0,cbar_kws={'label':'$Correlation$',\"ticks\":[-1.0,-0.8,-0.6,-0.4,-0.2,0.0,0.2,0.4,0.6,0.8,1.0]},fmt='0.2f')\n",
    "plt.savefig(\"Images/MonthlyCorrelation.eps\")\n",
    "plt.savefig(\"Images/MonthlyCorrelation.png\")\n",
    "plt.show()"
   ]
  },
  {
   "cell_type": "code",
   "execution_count": 20,
   "metadata": {},
   "outputs": [
    {
     "name": "stdout",
     "output_type": "stream",
     "text": [
      "count    816.000000\n",
      "mean      58.290164\n",
      "std       33.159044\n",
      "min        9.602414\n",
      "25%       34.867083\n",
      "50%       51.167418\n",
      "75%       74.777369\n",
      "max      297.248774\n",
      "Name: Q, dtype: float64\n",
      "\n",
      "\n",
      "count    816.000000\n",
      "mean     111.409166\n",
      "std       60.264372\n",
      "min        1.210000\n",
      "25%       66.695000\n",
      "50%      105.155000\n",
      "75%      141.762500\n",
      "max      332.830000\n",
      "Name: P, dtype: float64\n",
      "\n",
      "\n",
      "count    816.000000\n",
      "mean       1.778382\n",
      "std        1.333525\n",
      "min        0.000000\n",
      "25%        0.710400\n",
      "50%        1.714833\n",
      "75%        3.224700\n",
      "max        3.774276\n",
      "Name: PET, dtype: float64\n",
      "\n",
      "\n",
      "count    816.000000\n",
      "mean      13.085859\n",
      "std        6.583101\n",
      "min       -1.111111\n",
      "25%        6.927733\n",
      "50%       12.713150\n",
      "75%       19.587866\n",
      "max       24.290555\n",
      "Name: T, dtype: float64\n",
      "\n",
      "\n",
      "count    816.000000\n",
      "mean      19.008816\n",
      "std        7.168064\n",
      "min        2.761667\n",
      "25%       12.337958\n",
      "50%       19.602037\n",
      "75%       25.545698\n",
      "max       31.353333\n",
      "Name: Tmax, dtype: float64\n",
      "\n",
      "\n",
      "count    816.000000\n",
      "mean       7.163107\n",
      "std        6.172412\n",
      "min       -8.000000\n",
      "25%        1.563752\n",
      "50%        5.590834\n",
      "75%       13.345806\n",
      "max       18.777778\n",
      "Name: Tmin, dtype: float64\n",
      "\n",
      "\n",
      "count    816.000000\n",
      "mean      58.449127\n",
      "std       15.274023\n",
      "min       27.212000\n",
      "25%       44.652490\n",
      "50%       55.461659\n",
      "75%       74.006450\n",
      "max      115.952759\n",
      "Name: avQ, dtype: float64\n",
      "\n",
      "\n",
      "count    816.000000\n",
      "mean      13.197535\n",
      "std        6.271257\n",
      "min        2.967921\n",
      "25%        7.528182\n",
      "50%       12.849866\n",
      "75%       18.923395\n",
      "max       22.916617\n",
      "Name: avT, dtype: float64\n",
      "\n",
      "\n",
      "count    816.000000\n",
      "mean       7.292939\n",
      "std        5.676679\n",
      "min        0.053226\n",
      "25%        2.053668\n",
      "50%        5.914330\n",
      "75%       12.694323\n",
      "max       17.379343\n",
      "Name: avTmin, dtype: float64\n",
      "\n",
      "\n",
      "count    816.000000\n",
      "mean      19.102176\n",
      "std        6.954888\n",
      "min        5.641755\n",
      "25%       13.043325\n",
      "50%       19.786558\n",
      "75%       25.424547\n",
      "max       28.889286\n",
      "Name: avTmax, dtype: float64\n",
      "\n",
      "\n",
      "count    816.000000\n",
      "mean     120.834265\n",
      "std       20.046362\n",
      "min       32.230000\n",
      "25%      108.978952\n",
      "50%      118.021975\n",
      "75%      130.673929\n",
      "max      302.440000\n",
      "Name: avP, dtype: float64\n",
      "\n",
      "\n"
     ]
    }
   ],
   "source": [
    "meanQ=MonthFrame_WithNew[\"Q\"].mean()\n",
    "minQ=MonthFrame_WithNew[\"Q\"].min()\n",
    "maxQ=MonthFrame_WithNew[\"Q\"].max()\n",
    "stdQ=MonthFrame_WithNew[\"Q\"].std()\n",
    "print MonthFrame_WithNew[\"Q\"].describe()\n",
    "print \"\\n\"\n",
    "\n",
    "meanP=MonthFrame_WithNew[\"P\"].mean()\n",
    "minP=MonthFrame_WithNew[\"P\"].min()\n",
    "maxP=MonthFrame_WithNew[\"P\"].max()\n",
    "stdP=MonthFrame_WithNew[\"P\"].std()\n",
    "print MonthFrame_WithNew[\"P\"].describe()\n",
    "print \"\\n\"\n",
    "\n",
    "meanPet=MonthFrame_WithNew[\"PET\"].mean()\n",
    "minPet=MonthFrame_WithNew[\"PET\"].min()\n",
    "maxPet=MonthFrame_WithNew[\"PET\"].max()\n",
    "stdPet=MonthFrame_WithNew[\"PET\"].std()\n",
    "print MonthFrame_WithNew[\"PET\"].describe()\n",
    "print \"\\n\"\n",
    "\n",
    "\n",
    "print MonthFrame_WithNew[\"T\"].describe()\n",
    "print \"\\n\"\n",
    "meanT=MonthFrame_WithNew[\"T\"].mean()\n",
    "minT=MonthFrame_WithNew[\"T\"].min()\n",
    "maxT=MonthFrame_WithNew[\"T\"].max()\n",
    "stdT=MonthFrame_WithNew[\"T\"].std()\n",
    "\n",
    "print MonthFrame_WithNew[\"Tmax\"].describe()\n",
    "print \"\\n\"\n",
    "meanTmax=MonthFrame_WithNew[\"Tmax\"].mean()\n",
    "minTmax=MonthFrame_WithNew[\"Tmax\"].min()\n",
    "maxTmax=MonthFrame_WithNew[\"Tmax\"].max()\n",
    "stdTmax=MonthFrame_WithNew[\"Tmax\"].std()\n",
    "\n",
    "print MonthFrame_WithNew[\"Tmin\"].describe()\n",
    "print \"\\n\"\n",
    "meanTmin=MonthFrame_WithNew[\"Tmin\"].mean()\n",
    "minTmin=MonthFrame_WithNew[\"Tmin\"].min()\n",
    "maxTmin=MonthFrame_WithNew[\"Tmin\"].max()\n",
    "stdTmin=MonthFrame_WithNew[\"Tmin\"].std()\n",
    "\n",
    "meanAvQ_m=MonthFrame_WithNew[\"avQ\"].mean()\n",
    "minAvQ_m=MonthFrame_WithNew[\"avQ\"].min()\n",
    "maxAvQ_m=MonthFrame_WithNew[\"avQ\"].max()\n",
    "stdAvQ_m=MonthFrame_WithNew[\"avQ\"].std()\n",
    "print MonthFrame_WithNew[\"avQ\"].describe()\n",
    "print \"\\n\"\n",
    "\n",
    "\n",
    "meanAvT_m=MonthFrame_WithNew[\"avT\"].mean()\n",
    "minAvT_m=MonthFrame_WithNew[\"avT\"].min()\n",
    "maxAvT_m=MonthFrame_WithNew[\"avT\"].max()\n",
    "stdAvT_m=MonthFrame_WithNew[\"avT\"].std()\n",
    "print MonthFrame_WithNew[\"avT\"].describe()\n",
    "print \"\\n\"\n",
    "\n",
    "meanAvTmin_m=MonthFrame_WithNew[\"avTmin\"].mean()\n",
    "minAvTmin_m=MonthFrame_WithNew[\"avTmin\"].min()\n",
    "maxAvTmin_m=MonthFrame_WithNew[\"avTmin\"].max()\n",
    "stdAvTmin_m=MonthFrame_WithNew[\"avTmin\"].std()\n",
    "print MonthFrame_WithNew[\"avTmin\"].describe()\n",
    "print \"\\n\"\n",
    "\n",
    "meanAvTmax_m=MonthFrame_WithNew[\"avTmax\"].mean()\n",
    "minAvTmax_m=MonthFrame_WithNew[\"avTmax\"].min()\n",
    "maxAvTmax_m=MonthFrame_WithNew[\"avTmax\"].max()\n",
    "stdAvTmax_m=MonthFrame_WithNew[\"avTmax\"].std()\n",
    "print MonthFrame_WithNew[\"avTmax\"].describe()\n",
    "print \"\\n\"\n",
    "\n",
    "meanAvP_m=MonthFrame_WithNew[\"avP\"].mean()\n",
    "minAvP_m=MonthFrame_WithNew[\"avP\"].min()\n",
    "maxAvP_m=MonthFrame_WithNew[\"avP\"].max()\n",
    "stdAvP_m=MonthFrame_WithNew[\"avP\"].std()\n",
    "print MonthFrame_WithNew[\"avP\"].describe()\n",
    "print \"\\n\""
   ]
  },
  {
   "cell_type": "code",
   "execution_count": 33,
   "metadata": {
    "collapsed": true
   },
   "outputs": [],
   "source": [
    "from sklearn import preprocessing\n",
    "from sklearn.preprocessing import minmax_scale\n",
    "#scaledFrame=pd.DataFrame()\n",
    "scaledFrame=MonthFrame_WithNew.copy()\n",
    "scaledFrame[[\"Time\"]]=MonthFrame_WithNew[[\"Time\"]]\n",
    "scaledFrame[[\"Q\"]]=minmax_scale(MonthFrame_WithNew[[\"Q\"]],feature_range=(0,1))\n",
    "scaledFrame[[\"P\"]]=minmax_scale(MonthFrame_WithNew[[\"P\"]],feature_range=(0,1))\n",
    "scaledFrame[[\"PET\"]]=minmax_scale(MonthFrame_WithNew[[\"PET\"]],feature_range=(0,1))\n",
    "scaledFrame[[\"Tmin\"]]=minmax_scale(MonthFrame_WithNew[[\"Tmin\"]],feature_range=(0,1))\n",
    "scaledFrame[[\"Tmax\"]]=minmax_scale(MonthFrame_WithNew[[\"Tmax\"]],feature_range=(0,1))\n",
    "scaledFrame[[\"avTmin\"]]=minmax_scale(MonthFrame_WithNew[[\"avTmin\"]],feature_range=(0,1))\n",
    "scaledFrame[[\"avTmax\"]]=minmax_scale(MonthFrame_WithNew[[\"avTmax\"]],feature_range=(0,1))\n",
    "scaledFrame[[\"avP\"]]=minmax_scale(MonthFrame_WithNew[[\"avP\"]],feature_range=(0,1))\n",
    "scaledFrame[[\"avT\"]]=minmax_scale(MonthFrame_WithNew[[\"avT\"]],feature_range=(0,1))\n",
    "scaledFrame[[\"avQ\"]]=minmax_scale(MonthFrame_WithNew[[\"avQ\"]],feature_range=(0,1))"
   ]
  },
  {
   "cell_type": "markdown",
   "metadata": {},
   "source": [
    "### Defining the metrics for evaluation of prediction ###"
   ]
  },
  {
   "cell_type": "code",
   "execution_count": 22,
   "metadata": {
    "collapsed": true
   },
   "outputs": [],
   "source": [
    "from sklearn.metrics import r2_score\n",
    "from sklearn.metrics import mean_squared_error\n",
    "\n",
    "from functools import partial\n",
    "from collections import defaultdict \n",
    "from pprint import pprint\n",
    "\n",
    "#import WB as WB\n",
    "\n",
    "def WB(Yo,Yp):\n",
    "    sum_o=0\n",
    "    sum_p=0\n",
    "    for i in range(len(Yo)):\n",
    "        sum_o+=Yo[i]\n",
    "        sum_p+=Yp[i]\n",
    "    return 1-abs(1-sum_p/sum_o)\n",
    "\n",
    "def NSE(Yo, Yp):\n",
    "    sum_o=0\n",
    "    sum_p=0\n",
    "    for i in range(len(Yo)):\n",
    "        sum_o+=Yo[i]\n",
    "        sum_p+=Yp[i]\n",
    "    meano=sum_o/len(Yo)\n",
    "    meanp=sum_p/len(Yp)\n",
    "    \n",
    "    numerator=0\n",
    "    denumerator=0\n",
    "    for i in range(len(Yo)):\n",
    "        numerator=numerator+(Yp[i]-Yo[i])**2\n",
    "        denumerator=denumerator+(Yo[i]-meano)**2\n",
    "    \n",
    "    return 1-numerator/denumerator\n",
    "\n",
    "METRICS = {\n",
    "    \"r2_score\":r2_score, # NSE \n",
    "    \"MSE\":mean_squared_error,\n",
    "    \"WB\":WB,\n",
    "    \"NSE\":NSE\n",
    "}"
   ]
  },
  {
   "cell_type": "markdown",
   "metadata": {},
   "source": [
    "## Parameter Selection for the ARIMA Time Series Model ##\n",
    " p is the auto-regressive part of the model. It allows us to incorporate the effect of past values into our model. Intuitively, this would be similar to stating that it is likely to be warm tomorrow if it has been warm the past 3 days. #\n",
    "d is the integrated part of the model. This includes terms in the model that incorporate the amount of differencing (i.e. the number of past time points to subtract from the current value) to apply to the time series. Intuitively, this would be similar to stating that it is likely to be same temperature tomorrow if the difference in temperature in the last three days has been very small.#\n",
    "q is the moving average part of the model. This allows us to set the error of our model as a linear combination of the error values observed at previous time points in the past."
   ]
  },
  {
   "cell_type": "code",
   "execution_count": 26,
   "metadata": {},
   "outputs": [
    {
     "name": "stdout",
     "output_type": "stream",
     "text": [
      "Examples of parameter combinations for Seasonal ARIMA...\n",
      "SARIMAX: (0, 0, 1) x (0, 0, 1, 12)\n",
      "SARIMAX: (0, 0, 1) x (0, 1, 0, 12)\n",
      "SARIMAX: (0, 1, 0) x (0, 1, 1, 12)\n",
      "SARIMAX: (0, 1, 0) x (1, 0, 0, 12)\n"
     ]
    }
   ],
   "source": [
    "# Define the p, d and q parameters to take any value between 0 and 2\n",
    "p = d = q = range(0, 2)\n",
    "\n",
    "# Generate all different combinations of p, q and q triplets\n",
    "pdq = list(itertools.product(p, d, q))\n",
    "\n",
    "# Generate all different combinations of seasonal p, q and q triplets\n",
    "seasonal_pdq = [(x[0], x[1], x[2], 12) for x in list(itertools.product(p, d, q))]\n",
    "\n",
    "print('Examples of parameter combinations for Seasonal ARIMA...')\n",
    "print('SARIMAX: {} x {}'.format(pdq[1], seasonal_pdq[1]))\n",
    "print('SARIMAX: {} x {}'.format(pdq[1], seasonal_pdq[2]))\n",
    "print('SARIMAX: {} x {}'.format(pdq[2], seasonal_pdq[3]))\n",
    "print('SARIMAX: {} x {}'.format(pdq[2], seasonal_pdq[4]))"
   ]
  },
  {
   "cell_type": "code",
   "execution_count": 43,
   "metadata": {
    "collapsed": true
   },
   "outputs": [],
   "source": [
    "warnings.filterwarnings(\"ignore\") # specify to ignore warning messages\n",
    "\n",
    "for param in pdq:\n",
    "    for param_seasonal in seasonal_pdq:\n",
    "        try:\n",
    "            mod = sm.tsa.statespace.SARIMAX(scaledFrame[[\"Time\",\"Q\"]].as_matrix().reshape((816,2)),\n",
    "                                            order=param,\n",
    "                                            seasonal_order=param_seasonal,\n",
    "                                            enforce_stationarity=False,\n",
    "                                            enforce_invertibility=False)\n",
    "\n",
    "            results = mod.fit()\n",
    "\n",
    "            print('ARIMA{}x{}12 - AIC:{}'.format(param, param_seasonal, results.aic))\n",
    "        except:\n",
    "            continue"
   ]
  },
  {
   "cell_type": "code",
   "execution_count": 44,
   "metadata": {},
   "outputs": [
    {
     "ename": "ValueError",
     "evalue": "Invalid value for design matrix. Requires a 2- or 3-dimensional array, got 1 dimensions",
     "output_type": "error",
     "traceback": [
      "\u001b[0;31m---------------------------------------------------------------------------\u001b[0m",
      "\u001b[0;31mValueError\u001b[0m                                Traceback (most recent call last)",
      "\u001b[0;32m<ipython-input-44-e78df6006e8b>\u001b[0m in \u001b[0;36m<module>\u001b[0;34m()\u001b[0m\n\u001b[1;32m      3\u001b[0m                                             \u001b[0mseasonal_order\u001b[0m\u001b[0;34m=\u001b[0m\u001b[0mparam_seasonal\u001b[0m\u001b[0;34m,\u001b[0m\u001b[0;34m\u001b[0m\u001b[0m\n\u001b[1;32m      4\u001b[0m                                             \u001b[0menforce_stationarity\u001b[0m\u001b[0;34m=\u001b[0m\u001b[0mFalse\u001b[0m\u001b[0;34m,\u001b[0m\u001b[0;34m\u001b[0m\u001b[0m\n\u001b[0;32m----> 5\u001b[0;31m                                             enforce_invertibility=False)\n\u001b[0m",
      "\u001b[0;32m/Users/mezzatab/anaconda2/lib/python2.7/site-packages/statsmodels/tsa/statespace/sarimax.pyc\u001b[0m in \u001b[0;36m__init__\u001b[0;34m(self, endog, exog, order, seasonal_order, trend, measurement_error, time_varying_regression, mle_regression, simple_differencing, enforce_stationarity, enforce_invertibility, hamilton_representation, **kwargs)\u001b[0m\n\u001b[1;32m    520\u001b[0m \u001b[0;34m\u001b[0m\u001b[0m\n\u001b[1;32m    521\u001b[0m         \u001b[0;31m# Initialize the fixed components of the statespace model\u001b[0m\u001b[0;34m\u001b[0m\u001b[0;34m\u001b[0m\u001b[0m\n\u001b[0;32m--> 522\u001b[0;31m         \u001b[0mself\u001b[0m\u001b[0;34m.\u001b[0m\u001b[0mssm\u001b[0m\u001b[0;34m.\u001b[0m\u001b[0mdesign\u001b[0m \u001b[0;34m=\u001b[0m \u001b[0mself\u001b[0m\u001b[0;34m.\u001b[0m\u001b[0minitial_design\u001b[0m\u001b[0;34m\u001b[0m\u001b[0m\n\u001b[0m\u001b[1;32m    523\u001b[0m         \u001b[0mself\u001b[0m\u001b[0;34m.\u001b[0m\u001b[0mssm\u001b[0m\u001b[0;34m.\u001b[0m\u001b[0mstate_intercept\u001b[0m \u001b[0;34m=\u001b[0m \u001b[0mself\u001b[0m\u001b[0;34m.\u001b[0m\u001b[0minitial_state_intercept\u001b[0m\u001b[0;34m\u001b[0m\u001b[0m\n\u001b[1;32m    524\u001b[0m         \u001b[0mself\u001b[0m\u001b[0;34m.\u001b[0m\u001b[0mssm\u001b[0m\u001b[0;34m.\u001b[0m\u001b[0mtransition\u001b[0m \u001b[0;34m=\u001b[0m \u001b[0mself\u001b[0m\u001b[0;34m.\u001b[0m\u001b[0minitial_transition\u001b[0m\u001b[0;34m\u001b[0m\u001b[0m\n",
      "\u001b[0;32m/Users/mezzatab/anaconda2/lib/python2.7/site-packages/statsmodels/tsa/statespace/representation.pyc\u001b[0m in \u001b[0;36m__set__\u001b[0;34m(self, obj, value)\u001b[0m\n\u001b[1;32m     52\u001b[0m \u001b[0;34m\u001b[0m\u001b[0m\n\u001b[1;32m     53\u001b[0m         \u001b[0;32mif\u001b[0m \u001b[0mlen\u001b[0m\u001b[0;34m(\u001b[0m\u001b[0mshape\u001b[0m\u001b[0;34m)\u001b[0m \u001b[0;34m==\u001b[0m \u001b[0;36m3\u001b[0m\u001b[0;34m:\u001b[0m\u001b[0;34m\u001b[0m\u001b[0m\n\u001b[0;32m---> 54\u001b[0;31m             \u001b[0mvalue\u001b[0m \u001b[0;34m=\u001b[0m \u001b[0mself\u001b[0m\u001b[0;34m.\u001b[0m\u001b[0m_set_matrix\u001b[0m\u001b[0;34m(\u001b[0m\u001b[0mobj\u001b[0m\u001b[0;34m,\u001b[0m \u001b[0mvalue\u001b[0m\u001b[0;34m,\u001b[0m \u001b[0mshape\u001b[0m\u001b[0;34m)\u001b[0m\u001b[0;34m\u001b[0m\u001b[0m\n\u001b[0m\u001b[1;32m     55\u001b[0m         \u001b[0;32melse\u001b[0m\u001b[0;34m:\u001b[0m\u001b[0;34m\u001b[0m\u001b[0m\n\u001b[1;32m     56\u001b[0m             \u001b[0mvalue\u001b[0m \u001b[0;34m=\u001b[0m \u001b[0mself\u001b[0m\u001b[0;34m.\u001b[0m\u001b[0m_set_vector\u001b[0m\u001b[0;34m(\u001b[0m\u001b[0mobj\u001b[0m\u001b[0;34m,\u001b[0m \u001b[0mvalue\u001b[0m\u001b[0;34m,\u001b[0m \u001b[0mshape\u001b[0m\u001b[0;34m)\u001b[0m\u001b[0;34m\u001b[0m\u001b[0m\n",
      "\u001b[0;32m/Users/mezzatab/anaconda2/lib/python2.7/site-packages/statsmodels/tsa/statespace/representation.pyc\u001b[0m in \u001b[0;36m_set_matrix\u001b[0;34m(self, obj, value, shape)\u001b[0m\n\u001b[1;32m     66\u001b[0m         \u001b[0;31m# Enforce that the matrix is appropriate size\u001b[0m\u001b[0;34m\u001b[0m\u001b[0;34m\u001b[0m\u001b[0m\n\u001b[1;32m     67\u001b[0m         validate_matrix_shape(\n\u001b[0;32m---> 68\u001b[0;31m             \u001b[0mself\u001b[0m\u001b[0;34m.\u001b[0m\u001b[0mname\u001b[0m\u001b[0;34m,\u001b[0m \u001b[0mvalue\u001b[0m\u001b[0;34m.\u001b[0m\u001b[0mshape\u001b[0m\u001b[0;34m,\u001b[0m \u001b[0mshape\u001b[0m\u001b[0;34m[\u001b[0m\u001b[0;36m0\u001b[0m\u001b[0;34m]\u001b[0m\u001b[0;34m,\u001b[0m \u001b[0mshape\u001b[0m\u001b[0;34m[\u001b[0m\u001b[0;36m1\u001b[0m\u001b[0;34m]\u001b[0m\u001b[0;34m,\u001b[0m \u001b[0mobj\u001b[0m\u001b[0;34m.\u001b[0m\u001b[0mnobs\u001b[0m\u001b[0;34m\u001b[0m\u001b[0m\n\u001b[0m\u001b[1;32m     69\u001b[0m         )\n\u001b[1;32m     70\u001b[0m \u001b[0;34m\u001b[0m\u001b[0m\n",
      "\u001b[0;32m/Users/mezzatab/anaconda2/lib/python2.7/site-packages/statsmodels/tsa/statespace/tools.pyc\u001b[0m in \u001b[0;36mvalidate_matrix_shape\u001b[0;34m(name, shape, nrows, ncols, nobs)\u001b[0m\n\u001b[1;32m   1344\u001b[0m         raise ValueError('Invalid value for %s matrix. Requires a'\n\u001b[1;32m   1345\u001b[0m                          \u001b[0;34m' 2- or 3-dimensional array, got %d dimensions'\u001b[0m \u001b[0;34m%\u001b[0m\u001b[0;34m\u001b[0m\u001b[0m\n\u001b[0;32m-> 1346\u001b[0;31m                          (name, ndim))\n\u001b[0m\u001b[1;32m   1347\u001b[0m     \u001b[0;31m# Enforce the shape of the matrix\u001b[0m\u001b[0;34m\u001b[0m\u001b[0;34m\u001b[0m\u001b[0m\n\u001b[1;32m   1348\u001b[0m     \u001b[0;32mif\u001b[0m \u001b[0;32mnot\u001b[0m \u001b[0mshape\u001b[0m\u001b[0;34m[\u001b[0m\u001b[0;36m0\u001b[0m\u001b[0;34m]\u001b[0m \u001b[0;34m==\u001b[0m \u001b[0mnrows\u001b[0m\u001b[0;34m:\u001b[0m\u001b[0;34m\u001b[0m\u001b[0m\n",
      "\u001b[0;31mValueError\u001b[0m: Invalid value for design matrix. Requires a 2- or 3-dimensional array, got 1 dimensions"
     ]
    }
   ],
   "source": [
    "mod = sm.tsa.statespace.SARIMAX(scaledFrame[[\"Time\",\"Q\"]].as_matrix().reshape((816,2)),\n",
    "                                            order=param,\n",
    "                                            seasonal_order=param_seasonal,\n",
    "                                            enforce_stationarity=False,\n",
    "                                            enforce_invertibility=False)"
   ]
  },
  {
   "cell_type": "code",
   "execution_count": 45,
   "metadata": {},
   "outputs": [
    {
     "ename": "NameError",
     "evalue": "name 'seasonal_decompose' is not defined",
     "output_type": "error",
     "traceback": [
      "\u001b[0;31m---------------------------------------------------------------------------\u001b[0m",
      "\u001b[0;31mNameError\u001b[0m                                 Traceback (most recent call last)",
      "\u001b[0;32m<ipython-input-45-6f784622c558>\u001b[0m in \u001b[0;36m<module>\u001b[0;34m()\u001b[0m\n\u001b[0;32m----> 1\u001b[0;31m \u001b[0mdecomposition\u001b[0m \u001b[0;34m=\u001b[0m \u001b[0mseasonal_decompose\u001b[0m\u001b[0;34m(\u001b[0m\u001b[0mscaledFrame\u001b[0m\u001b[0;34m[\u001b[0m\u001b[0;34m[\u001b[0m\u001b[0;34m\"Time\"\u001b[0m\u001b[0;34m,\u001b[0m\u001b[0;34m\"Q\"\u001b[0m\u001b[0;34m]\u001b[0m\u001b[0;34m]\u001b[0m\u001b[0;34m.\u001b[0m\u001b[0mriders\u001b[0m\u001b[0;34m,\u001b[0m \u001b[0mfreq\u001b[0m\u001b[0;34m=\u001b[0m\u001b[0;36m12\u001b[0m\u001b[0;34m)\u001b[0m\u001b[0;34m\u001b[0m\u001b[0m\n\u001b[0m\u001b[1;32m      2\u001b[0m \u001b[0mfig\u001b[0m \u001b[0;34m=\u001b[0m \u001b[0mplt\u001b[0m\u001b[0;34m.\u001b[0m\u001b[0mfigure\u001b[0m\u001b[0;34m(\u001b[0m\u001b[0;34m)\u001b[0m\u001b[0;34m\u001b[0m\u001b[0m\n\u001b[1;32m      3\u001b[0m \u001b[0mfig\u001b[0m \u001b[0;34m=\u001b[0m \u001b[0mdecomposition\u001b[0m\u001b[0;34m.\u001b[0m\u001b[0mplot\u001b[0m\u001b[0;34m(\u001b[0m\u001b[0;34m)\u001b[0m\u001b[0;34m\u001b[0m\u001b[0m\n\u001b[1;32m      4\u001b[0m \u001b[0mfig\u001b[0m\u001b[0;34m.\u001b[0m\u001b[0mset_size_inches\u001b[0m\u001b[0;34m(\u001b[0m\u001b[0;36m15\u001b[0m\u001b[0;34m,\u001b[0m \u001b[0;36m8\u001b[0m\u001b[0;34m)\u001b[0m\u001b[0;34m\u001b[0m\u001b[0m\n",
      "\u001b[0;31mNameError\u001b[0m: name 'seasonal_decompose' is not defined"
     ]
    }
   ],
   "source": [
    "decomposition = seasonal_decompose(scaledFrame[[\"Time\",\"Q\"]].riders, freq=12)  \n",
    "fig = plt.figure()  \n",
    "fig = decomposition.plot()  \n",
    "fig.set_size_inches(15, 8)"
   ]
  },
  {
   "cell_type": "code",
   "execution_count": 42,
   "metadata": {},
   "outputs": [
    {
     "data": {
      "text/plain": [
       "array([[1.94800000e+03, 1.13491192e-01],\n",
       "       [1.94808333e+03, 2.85469880e-01],\n",
       "       [1.94816667e+03, 2.81148188e-01],\n",
       "       ...,\n",
       "       [2.01775000e+03, 2.74255776e-01],\n",
       "       [2.01783333e+03, 1.48601549e-01],\n",
       "       [2.01791667e+03, 1.06144214e-01]])"
      ]
     },
     "execution_count": 42,
     "metadata": {},
     "output_type": "execute_result"
    }
   ],
   "source": [
    "Z"
   ]
  },
  {
   "cell_type": "code",
   "execution_count": null,
   "metadata": {
    "collapsed": true
   },
   "outputs": [],
   "source": []
  }
 ],
 "metadata": {
  "kernelspec": {
   "display_name": "Python 2",
   "language": "python",
   "name": "python2"
  },
  "language_info": {
   "codemirror_mode": {
    "name": "ipython",
    "version": 2
   },
   "file_extension": ".py",
   "mimetype": "text/x-python",
   "name": "python",
   "nbconvert_exporter": "python",
   "pygments_lexer": "ipython2",
   "version": "2.7.13"
  }
 },
 "nbformat": 4,
 "nbformat_minor": 2
}
